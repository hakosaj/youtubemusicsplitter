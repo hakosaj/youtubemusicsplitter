{
 "cells": [
  {
   "cell_type": "code",
   "execution_count": 16,
   "metadata": {},
   "outputs": [
    {
     "name": "stdout",
     "output_type": "stream",
     "text": [
      "Sample rate: 43.64248707944872\n",
      "Sample rate: 36.82778027193432\n",
      "Sample rate: 47.49272855094839\n",
      "Sample rate: 43.256735887906785\n",
      "Sample rate: 31.421571756894792\n",
      "Sample rate: 42.58940491495253\n",
      "Sample rate: 35.67462413021869\n",
      "Sample rate: 33.60887018105197\n",
      "Sample rate: 37.61915290880503\n",
      "Sample rate: 42.54732883817427\n",
      "Sample rate: 38.247252442273535\n",
      "Sample rate: 40.4151710304054\n",
      "Sample rate: 20.554794888316152\n",
      "Sample rate: 41.1882232689365\n",
      "Sample rate: 34.4421035268714\n",
      "Sample rate: 34.74778622720671\n",
      "Sample rate: 35.06465254030288\n",
      "Sample rate: 51.49761125819524\n",
      "Sample rate: 54.29451115733737\n",
      "Sample rate: 36.17809664818549\n",
      "Sample rate: 83.1912228543833\n",
      "Sample rate: 54.954092771480695\n",
      "Sample rate: 41.38612939650202\n",
      "(23, 21)\n"
     ]
    }
   ],
   "source": [
    "import librosa\n",
    "import numpy as np\n",
    "import os\n",
    "import pickle\n",
    "\n",
    "g=os.listdir(\"wav_files\")\n",
    "\n",
    "spectrals=[]\n",
    "for vidfile in g:\n",
    "\n",
    "    dr=librosa.get_duration(path=f\"wav_files/{vidfile}\")\n",
    "    y,sr = librosa.load(f\"wav_files/{vidfile}\",sr=10000/dr)\n",
    "\n",
    "\n",
    "\n",
    "    #25k  points of sampled time serie data\n",
    "    #print(f\"Sampling data: {y.shape}\")\n",
    "    print(f\"Sample rate: {sr}\")\n",
    "    mfccs = librosa.feature.mfcc(y=y, sr=sr)\n",
    "\n",
    "    #print(mfccs.shape)\n",
    "\n",
    "    mfccs_mean = np.mean(mfccs, axis=0)[::2]\n",
    "    mfccs_max = np.max(mfccs, axis=0)[::2]\n",
    "\n",
    "    #print(mfccs_max.shape)\n",
    "    #print(mfccs_mean.shape)\n",
    "\n",
    "\n",
    "    zero_crossings = librosa.zero_crossings(y, pad=False)\n",
    "    #print(np.array((sum(zero_crossings))))\n",
    "    song_characteristics=np.concatenate((mfccs_mean,mfccs_max))\n",
    "    song_characteristics=np.concatenate((song_characteristics,[sum(zero_crossings)]))\n",
    "    spectrals.append(song_characteristics)\n",
    "    #https://towardsdatascience.com/extract-features-of-music-75a3f9bc265dnp.array(sum(zero_crossings))\n",
    "spectrals=np.array(spectrals)\n",
    "print(spectrals.shape)\n"
   ]
  },
  {
   "cell_type": "code",
   "execution_count": 17,
   "metadata": {},
   "outputs": [
    {
     "name": "stdout",
     "output_type": "stream",
     "text": [
      "[-2.03211193e+01 -1.33304930e+01 -9.60407543e+00 -1.01035595e+01\n",
      " -1.06438961e+01 -9.52898598e+00 -6.66789770e+00 -8.98919106e+00\n",
      " -9.01910877e+00 -7.66273499e+00  3.31592560e+01  2.19552422e+01\n",
      "  2.09942818e+01  2.07664165e+01  2.05237255e+01  2.20909348e+01\n",
      "  2.09255714e+01  2.16866570e+01  2.31319237e+01  2.29226036e+01\n",
      "  6.76000000e+03]\n",
      "[-0.34777754 -0.43126741 -0.35646154 -0.38269578 -0.40256527 -0.36297935\n",
      " -0.24622564 -0.32132706 -0.3269315  -0.19674809  0.20927317  0.14136921\n",
      "  0.12371461  0.11704895  0.11930552  0.12851114  0.13450513  0.13138251\n",
      "  0.13389115  0.15637     0.22128283]\n"
     ]
    }
   ],
   "source": [
    "import sklearn\n",
    "#Mean, max, zero\n",
    "print(spectrals[0])\n",
    "spectrals_n=sklearn.preprocessing.normalize(spectrals,axis=0)\n",
    "print(spectrals_n[0])\n"
   ]
  },
  {
   "cell_type": "code",
   "execution_count": 24,
   "metadata": {},
   "outputs": [
    {
     "ename": "AttributeError",
     "evalue": "module 'sklearn' has no attribute 'cluster'",
     "output_type": "error",
     "traceback": [
      "\u001b[0;31m---------------------------------------------------------------------------\u001b[0m",
      "\u001b[0;31mAttributeError\u001b[0m                            Traceback (most recent call last)",
      "Cell \u001b[0;32mIn[24], line 1\u001b[0m\n\u001b[0;32m----> 1\u001b[0m sklearn\u001b[39m.\u001b[39;49mcluster\u001b[39m.\u001b[39mKMeans()\n",
      "\u001b[0;31mAttributeError\u001b[0m: module 'sklearn' has no attribute 'cluster'"
     ]
    }
   ],
   "source": [
    "sklearn.cluster.KMeans()"
   ]
  },
  {
   "cell_type": "code",
   "execution_count": null,
   "metadata": {},
   "outputs": [],
   "source": []
  }
 ],
 "metadata": {
  "kernelspec": {
   "display_name": "Python 3",
   "language": "python",
   "name": "python3"
  },
  "language_info": {
   "codemirror_mode": {
    "name": "ipython",
    "version": 3
   },
   "file_extension": ".py",
   "mimetype": "text/x-python",
   "name": "python",
   "nbconvert_exporter": "python",
   "pygments_lexer": "ipython3",
   "version": "3.11.3"
  },
  "orig_nbformat": 4
 },
 "nbformat": 4,
 "nbformat_minor": 2
}
