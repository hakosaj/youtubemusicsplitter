{
 "cells": [
  {
   "cell_type": "code",
   "execution_count": null,
   "metadata": {},
   "outputs": [],
   "source": [
    "import librosa\n",
    "import numpy as np\n",
    "import os\n",
    "g=os.listdir(\"wav_files\")\n",
    "\n",
    "spectrals=[]\n",
    "for vidfile in g:\n",
    "\n",
    "    dr=librosa.get_duration(path=f\"wav_files/{vidfile}\")\n",
    "    y,sr = librosa.load(f\"wav_files/{vidfile}\",sr=10000/dr)\n",
    "\n",
    "\n",
    "\n",
    "    #25k  points of sampled time serie data\n",
    "    print(f\"Sampling data: {y.shape}\")\n",
    "    print(f\"Sample rate: {sr}\")\n",
    "    mfccs = librosa.feature.mfcc(y=y, sr=sr)\n",
    "\n",
    "    print(mfccs.shape)\n",
    "\n",
    "    mfccs_mean = np.mean(mfccs, axis=0)[::2]\n",
    "    mfccs_max = np.max(mfccs, axis=0)[::2]\n",
    "\n",
    "    print(mfccs_max.shape)\n",
    "    print(mfccs_mean.shape)\n",
    "\n",
    "\n",
    "    zero_crossings = librosa.zero_crossings(y, pad=False)\n",
    "    print(np.array((sum(zero_crossings))))\n",
    "    song_characteristics=np.concatenate((mfccs_mean,mfccs_max))\n",
    "    song_characteristics=np.concatenate((song_characteristics,[sum(zero_crossings)]))\n",
    "    spectrals.append(song_characteristics)\n",
    "    #https://towardsdatascience.com/extract-features-of-music-75a3f9bc265dnp.array(sum(zero_crossings))\n",
    "spectrals=np.array(spectrals)\n",
    "print(spectrals.shape)"
   ]
  }
 ],
 "metadata": {
  "language_info": {
   "name": "python"
  },
  "orig_nbformat": 4
 },
 "nbformat": 4,
 "nbformat_minor": 2
}
