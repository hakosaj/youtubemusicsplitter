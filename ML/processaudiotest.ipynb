{
 "cells": [
  {
   "cell_type": "code",
   "execution_count": 6,
   "metadata": {},
   "outputs": [],
   "source": [
    "import librosa\n",
    "import numpy as np\n",
    "\n",
    "def segment_audio(y, sr, segment_length_sec=5):\n",
    "    segment_length_samples = int(segment_length_sec * sr)\n",
    "    \n",
    "    # Calculate the number of segments\n",
    "    num_segments = int(np.ceil(len(y) / segment_length_samples))\n",
    "    \n",
    "    # Create segments\n",
    "    segments = []\n",
    "    for i in range(num_segments):\n",
    "        start_sample = i * segment_length_samples\n",
    "        end_sample = start_sample + segment_length_samples\n",
    "        segments.append(y[start_sample:end_sample])\n",
    "    \n",
    "    return segments[1:len(segments)-2]\n"
   ]
  },
  {
   "cell_type": "code",
   "execution_count": 24,
   "metadata": {},
   "outputs": [
    {
     "name": "stdout",
     "output_type": "stream",
     "text": [
      "Treating segment 0\n",
      "Treating segment 1\n",
      "Treating segment 2\n",
      "Treating segment 3\n",
      "Treating segment 4\n",
      "Treating segment 5\n",
      "Treating segment 6\n",
      "Treating segment 7\n",
      "Treating segment 8\n",
      "Treating segment 9\n",
      "Treating segment 10\n",
      "Treating segment 11\n",
      "Treating segment 12\n",
      "Treating segment 13\n",
      "Treating segment 14\n",
      "Treating segment 15\n",
      "Treating segment 16\n",
      "Treating segment 17\n",
      "Treating segment 18\n",
      "Treating segment 19\n",
      "Treating segment 20\n",
      "Treating segment 21\n",
      "Treating segment 22\n",
      "Treating segment 23\n",
      "Treating segment 24\n",
      "Treating segment 25\n",
      "Treating segment 26\n",
      "Treating segment 27\n",
      "Treating segment 28\n",
      "Treating segment 29\n",
      "Treating segment 30\n",
      "Treating segment 31\n",
      "Treating segment 32\n",
      "Treating segment 33\n",
      "Treating segment 34\n",
      "Treating segment 35\n",
      "Treating segment 36\n",
      "Treating segment 37\n",
      "Treating segment 38\n",
      "Treating segment 39\n",
      "Treating segment 40\n",
      "Treating segment 41\n",
      "Treating segment 42\n",
      "43\n"
     ]
    },
    {
     "ename": "TypeError",
     "evalue": "object of type 'numpy.float32' has no len()",
     "output_type": "error",
     "traceback": [
      "\u001b[0;31m---------------------------------------------------------------------------\u001b[0m",
      "\u001b[0;31mTypeError\u001b[0m                                 Traceback (most recent call last)",
      "Cell \u001b[0;32mIn[24], line 61\u001b[0m\n\u001b[1;32m     57\u001b[0m \u001b[39mprint\u001b[39m(\u001b[39mlen\u001b[39m(segment_spectral_contrast))\n\u001b[1;32m     58\u001b[0m spectral_contrast\u001b[39m=\u001b[39mnp\u001b[39m.\u001b[39mmean(segment_spectral_contrast)\n\u001b[0;32m---> 61\u001b[0m chromagram_size\u001b[39m=\u001b[39m\u001b[39mlen\u001b[39m(chromagram)\n\u001b[1;32m     62\u001b[0m spectral_contrast_size\u001b[39m=\u001b[39m\u001b[39mlen\u001b[39m(spectral_contrast)\n\u001b[1;32m     63\u001b[0m mfccs_size\u001b[39m=\u001b[39m\u001b[39mlen\u001b[39m(mfccs_mean)\n",
      "\u001b[0;31mTypeError\u001b[0m: object of type 'numpy.float32' has no len()"
     ]
    }
   ],
   "source": [
    "import librosa\n",
    "import numpy as np\n",
    "import os\n",
    "import pickle\n",
    "\n",
    "g=os.listdir(\"wav_files\")\n",
    "mfccs_size=0\n",
    "\n",
    "spectrals=[]\n",
    "for vidfile in g:\n",
    "\n",
    "    dr=librosa.get_duration(path=f\"wav_files/{vidfile}\")\n",
    "    y,sr = librosa.load(f\"wav_files/{vidfile}\",sr=22050)\n",
    "    segments=segment_audio(y,sr)\n",
    "    \n",
    "    segment_mfccs_mean=[]\n",
    "    segment_mfccs_max=[]\n",
    "    segment_chromagram=[]\n",
    "    segment_spectral_contrast=np.array([])\n",
    "    segment_zero_crossings=[]\n",
    "    for cnt,y in enumerate(segments):\n",
    "        print(f\"Treating segment {cnt}\")\n",
    "\n",
    "\n",
    "\n",
    "\n",
    "        mfccs = librosa.feature.mfcc(y=y, sr=sr)\n",
    "\n",
    "\n",
    "\n",
    "        chromagram = librosa.feature.chroma_stft(y=y, sr=sr).mean(axis=1)\n",
    "        segment_chromagram.append(chromagram)\n",
    "\n",
    "\n",
    "\n",
    "        mfccs_mean = np.mean(mfccs, axis=0)[::2]\n",
    "        mfccs_max = np.max(mfccs, axis=0)[::2]\n",
    "        segment_mfccs_mean.append(mfccs_mean)\n",
    "        segment_mfccs_max.append(mfccs_max)\n",
    "\n",
    "\n",
    "\n",
    "        spectral_contrast = librosa.feature.spectral_contrast(y=y, sr=sr, n_bands=5).mean(axis=1)\n",
    "        segment_spectral_contrast.append(spectral_contrast)\n",
    "        print(segment_spectral_contrast.shape)\n",
    "\n",
    "\n",
    "\n",
    "\n",
    "        zero_crossings = librosa.zero_crossings(y, pad=False)\n",
    "        segment_zero_crossings.append(zero_crossings)\n",
    "\n",
    "\n",
    "    mfccs_mean=np.mean(segment_mfccs_mean)\n",
    "    mfccs_max=np.mean(segment_mfccs_max)\n",
    "    chromagram=np.mean(segment_chromagram)\n",
    "    zero_crossings=np.mean(segment_zero_crossings)\n",
    "    spectral_contrast=np.mean(segment_spectral_contrast)\n",
    "\n",
    "\n",
    "    chromagram_size=len(chromagram)\n",
    "    spectral_contrast_size=len(spectral_contrast)\n",
    "    mfccs_size=len(mfccs_mean)\n",
    "\n",
    "\n",
    "        \n",
    "    song_characteristics=np.concatenate((mfccs_mean,mfccs_max))\n",
    "\n",
    "\n",
    "    song_characteristics=np.concatenate((song_characteristics,[sum(zero_crossings)]))\n",
    "\n",
    "\n",
    "    song_characteristics=np.concatenate((song_characteristics,chromagram))\n",
    "\n",
    "\n",
    "    song_characteristics=np.concatenate((song_characteristics,spectral_contrast))\n",
    "\n",
    "    spectrals.append(song_characteristics)\n",
    "    #https://towardsdatascience.com/extract-features-of-music-75a3f9bc265dnp.array(sum(zero_crossings))\n",
    "spectrals=np.array(spectrals)\n",
    "print(spectrals.shape)\n"
   ]
  },
  {
   "cell_type": "code",
   "execution_count": 182,
   "metadata": {},
   "outputs": [
    {
     "name": "stdout",
     "output_type": "stream",
     "text": [
      "(33, 7833)\n",
      "3907\n"
     ]
    }
   ],
   "source": [
    "import sklearn\n",
    "#Mean, max, zero\n",
    "spectrals_n=sklearn.preprocessing.normalize(spectrals,axis=0)\n",
    "\n",
    "print(spectrals_n.shape)\n",
    "\n",
    "print(mfccs_size)\n"
   ]
  },
  {
   "cell_type": "code",
   "execution_count": 183,
   "metadata": {},
   "outputs": [
    {
     "name": "stdout",
     "output_type": "stream",
     "text": [
      "3907\n",
      "3907\n",
      "310620\n",
      "12\n",
      "6\n"
     ]
    }
   ],
   "source": [
    "print(len(mfccs_mean))\n",
    "print(len(mfccs_max))\n",
    "print(sum(zero_crossings))\n",
    "print(len(chromagram))\n",
    "print(len(spectral_contrast))\n"
   ]
  },
  {
   "cell_type": "markdown",
   "metadata": {},
   "source": [
    "### Spectral array:\n",
    "- First n columns [0,mfccs_size] are the MCCF mean\n",
    "- Second n columns, [mfccs_size,mfccs_size*2[ are the MCCF max.\n",
    "- Next column, mfcc_size*2, is the  zero crossings\n",
    "- Next, [mfcc_size*2+1,mfccs_ize*2+1+chromagram_size] are the chromagram\n",
    "- then, [mfccs_size*2+1+chromagram_size,mfccssize*2+1+chromagram_size+spectral_size] is the spectral contrast "
   ]
  },
  {
   "cell_type": "code",
   "execution_count": 184,
   "metadata": {},
   "outputs": [
    {
     "name": "stdout",
     "output_type": "stream",
     "text": [
      "(33, 3907)\n",
      "(33, 9)\n"
     ]
    }
   ],
   "source": [
    "from sklearn.decomposition import PCA\n",
    "\n",
    "\n",
    "\n",
    "#For means\n",
    "spectral_n_means=spectrals_n[:,:mfccs_size]\n",
    "print(spectral_n_means.shape)\n",
    "pca = PCA(n_components=9)\n",
    " \n",
    "pca_means=pca.fit_transform(spectral_n_means)\n",
    "#print(pca.components_)\n",
    "#print(pca.explained_variance_)\n",
    "\n",
    "print(pca_means.shape)\n",
    "\n",
    "#retain 5"
   ]
  },
  {
   "cell_type": "code",
   "execution_count": 185,
   "metadata": {},
   "outputs": [
    {
     "name": "stdout",
     "output_type": "stream",
     "text": [
      "(33, 3907)\n",
      "[5.88416594 1.23021515 0.98290727 0.74439979 0.6848537  0.63013296\n",
      " 0.56674801 0.55536955 0.53933448]\n",
      "(33, 9)\n"
     ]
    }
   ],
   "source": [
    "#For maxes\n",
    "spectral_n_maxes=spectrals_n[:,mfccs_size:mfccs_size*2]\n",
    "print(spectral_n_maxes.shape)\n",
    "pca = PCA(n_components=9)\n",
    " \n",
    "pca_maxes=pca.fit_transform(spectral_n_maxes)\n",
    "#print(pca.components_)\n",
    "print(pca.explained_variance_)\n",
    "print(pca_maxes.shape)\n",
    "\n",
    "#retain 5"
   ]
  },
  {
   "cell_type": "code",
   "execution_count": 187,
   "metadata": {},
   "outputs": [
    {
     "name": "stdout",
     "output_type": "stream",
     "text": [
      "(33, 18)\n",
      "(33, 37)\n"
     ]
    }
   ],
   "source": [
    "\n",
    "#Max and mean\n",
    "reduced_spectral=np.concatenate((pca_maxes,pca_means),axis=1)\n",
    "print(reduced_spectral.shape)\n",
    "\n",
    "#Spectrals t\n",
    "reduced_spectral=np.concatenate((reduced_spectral,spectrals_n[:,2*mfccs_size:]),axis=1)\n",
    "\n",
    "\n",
    "\n",
    "print(reduced_spectral.shape)"
   ]
  },
  {
   "cell_type": "code",
   "execution_count": 190,
   "metadata": {},
   "outputs": [],
   "source": [
    "distortions = []\n",
    "inertias = []\n",
    "mapping1 = {}\n",
    "mapping2 = {}\n",
    "from sklearn.cluster import KMeans\n",
    "from scipy.spatial.distance import cdist\n",
    "K = range(1, 12)\n",
    "\n",
    "for k in K:\n",
    "\t# Building and fitting the model\n",
    "\tkmeanModel = KMeans(n_clusters=k,n_init=10).fit(reduced_spectral)\n",
    "\tkmeanModel.fit(reduced_spectral)\n",
    "\n",
    "\tdistortions.append(sum(np.min(cdist(reduced_spectral, kmeanModel.cluster_centers_,\n",
    "\t\t\t\t\t\t\t\t\t\t'euclidean'), axis=1)) / reduced_spectral.shape[0])\n",
    "\tinertias.append(kmeanModel.inertia_)\n",
    "\n",
    "\tmapping1[k] = sum(np.min(cdist(reduced_spectral, kmeanModel.cluster_centers_,\n",
    "\t\t\t\t\t\t\t\t'euclidean'), axis=1)) / reduced_spectral.shape[0]\n",
    "\tmapping2[k] = kmeanModel.inertia_\n"
   ]
  },
  {
   "cell_type": "code",
   "execution_count": 191,
   "metadata": {},
   "outputs": [
    {
     "data": {
      "image/png": "[encoded data removed]",
      "text/plain": [
       "<Figure size 640x480 with 1 Axes>"
      ]
     },
     "metadata": {},
     "output_type": "display_data"
    }
   ],
   "source": [
    "import matplotlib.pyplot as plt\n",
    "plt.plot(K, distortions, 'bx-')\n",
    "plt.xlabel('Values of K')\n",
    "plt.ylabel('Distortion')\n",
    "plt.title('The Elbow Method using Distortion')\n",
    "plt.show()"
   ]
  },
  {
   "cell_type": "code",
   "execution_count": 194,
   "metadata": {},
   "outputs": [
    {
     "name": "stderr",
     "output_type": "stream",
     "text": [
      "/home/hakosaj/.pyenv/versions/3.11.3/lib/python3.11/site-packages/sklearn/cluster/_kmeans.py:870: FutureWarning: The default value of `n_init` will change from 10 to 'auto' in 1.4. Set the value of `n_init` explicitly to suppress the warning\n",
      "  warnings.warn(\n"
     ]
    },
    {
     "name": "stdout",
     "output_type": "stream",
     "text": [
      "[1 5 0 1 0 4 1 4 1 0 4 1 0 2 0 4 1 6 0 1 1 0 3 1 2 1 2 2 0 2 2 0 7]\n"
     ]
    },
    {
     "name": "stderr",
     "output_type": "stream",
     "text": [
      "/home/hakosaj/.pyenv/versions/3.11.3/lib/python3.11/site-packages/sklearn/cluster/_kmeans.py:870: FutureWarning: The default value of `n_init` will change from 10 to 'auto' in 1.4. Set the value of `n_init` explicitly to suppress the warning\n",
      "  warnings.warn(\n"
     ]
    }
   ],
   "source": [
    "\n",
    "kmeanModel = KMeans(n_clusters=8).fit(reduced_spectral)\n",
    "kmeanModel.fit(reduced_spectral)\n",
    "print(kmeanModel.labels_)"
   ]
  },
  {
   "cell_type": "code",
   "execution_count": 195,
   "metadata": {},
   "outputs": [
    {
     "name": "stdout",
     "output_type": "stream",
     "text": [
      "letsgetitstarted                                     |  1 \n",
      "youdontknowme                                        |  5 \n",
      "neverbethesame                                       |  0 \n",
      "righthereinmyarms                                    |  1 \n",
      "legendary                                            |  0 \n",
      "heathens                                             |  4 \n",
      "soundgardenblackholesunwithlyrics                    |  1 \n",
      "virtualinsanity                                      |  4 \n",
      "justintimberlake-mylove                              |  1 \n",
      "latch                                                |  0 \n",
      "sweetdreams                                          |  4 \n",
      "kohtalo                                              |  1 \n",
      "doiwannaknow?                                        |  0 \n",
      "bettergiveuup                                        |  2 \n",
      "3doorsdown-kryptonite                                |  0 \n",
      "disturbia                                            |  4 \n",
      "redhotchilipeppers-ifyouwantmetostay                 |  1 \n",
      "tadow                                                |  6 \n",
      "promiscuousclosedcaptionedstereo                     |  0 \n",
      "sogone                                               |  1 \n",
      "señorita                                             |  1 \n",
      "maskoff                                              |  0 \n",
      "thedevilwearsasuitandtie                             |  3 \n",
      "crymeariver                                          |  1 \n",
      "afterglow                                            |  2 \n",
      "billyidol-rebelyell                                  |  1 \n",
      "navajo                                               |  2 \n",
      "arcticmonkeys-iwannabeyours                          |  2 \n",
      "dontchaclosedcaptionedbustaversion                   |  0 \n",
      "likewut                                              |  2 \n",
      "human                                                |  2 \n",
      "saturnzbarz                                          |  0 \n",
      "drops                                                |  7 \n"
     ]
    }
   ],
   "source": [
    "for c, value in enumerate(g):\n",
    "    print(f\"{value.replace('.wav',''):50}   |  {kmeanModel.labels_[c]} \")"
   ]
  },
  {
   "cell_type": "code",
   "execution_count": null,
   "metadata": {},
   "outputs": [],
   "source": []
  }
 ],
 "metadata": {
  "kernelspec": {
   "display_name": "Python 3",
   "language": "python",
   "name": "python3"
  },
  "language_info": {
   "codemirror_mode": {
    "name": "ipython",
    "version": 3
   },
   "file_extension": ".py",
   "mimetype": "text/x-python",
   "name": "python",
   "nbconvert_exporter": "python",
   "pygments_lexer": "ipython3",
   "version": "3.11.3"
  },
  "orig_nbformat": 4
 },
 "nbformat": 4,
 "nbformat_minor": 2
}
