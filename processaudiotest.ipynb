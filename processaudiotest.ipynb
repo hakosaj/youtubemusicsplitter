{
 "cells": [
  {
   "cell_type": "code",
   "execution_count": 125,
   "metadata": {},
   "outputs": [
    {
     "name": "stdout",
     "output_type": "stream",
     "text": [
      "Sample rate: 4364.248707944872\n",
      "Sample rate: 3682.7780271934325\n",
      "Sample rate: 4403.159251786425\n",
      "Sample rate: 4749.272855094839\n",
      "Sample rate: 4325.673588790679\n",
      "Sample rate: 5103.38225791221\n",
      "Sample rate: 3142.157175689479\n",
      "Sample rate: 4258.940491495253\n",
      "Sample rate: 3567.462413021869\n",
      "Sample rate: 3911.288777634453\n",
      "Sample rate: 3360.887018105197\n",
      "Sample rate: 4815.764782759868\n",
      "Sample rate: 3761.915290880503\n",
      "Sample rate: 3893.6079142127815\n",
      "Sample rate: 4254.732883817427\n",
      "Sample rate: 3824.725244227353\n",
      "Sample rate: 4041.5171030405404\n",
      "Sample rate: 2055.479488831615\n",
      "Sample rate: 4118.82232689365\n",
      "Sample rate: 4085.6879001380053\n",
      "Sample rate: 3395.6552860111938\n",
      "Sample rate: 4886.80345874873\n",
      "Sample rate: 4235.9857071502665\n",
      "Sample rate: 3444.21035268714\n",
      "Sample rate: 3474.778622720671\n",
      "Sample rate: 3506.4652540302877\n",
      "Sample rate: 5149.761125819525\n",
      "Sample rate: 5429.4511157337365\n",
      "Sample rate: 3617.8096648185488\n",
      "Sample rate: 8319.12228543833\n",
      "Sample rate: 5013.086315115558\n",
      "Sample rate: 5495.409277148069\n",
      "Sample rate: 4138.612939650202\n",
      "(33, 1955)\n"
     ]
    }
   ],
   "source": [
    "import librosa\n",
    "import numpy as np\n",
    "import os\n",
    "import pickle\n",
    "\n",
    "g=os.listdir(\"wav_files\")\n",
    "mfccs_size=0\n",
    "\n",
    "spectrals=[]\n",
    "for vidfile in g:\n",
    "\n",
    "    dr=librosa.get_duration(path=f\"wav_files/{vidfile}\")\n",
    "    y,sr = librosa.load(f\"wav_files/{vidfile}\",sr=1000000/dr)\n",
    "\n",
    "\n",
    "\n",
    "    #1mk  points of sampled time serie data\n",
    "    #print(f\"Sampling data: {y.shape}\")\n",
    "    print(f\"Sample rate: {sr}\")\n",
    "    mfccs = librosa.feature.mfcc(y=y, sr=sr)\n",
    "\n",
    "    #print(mfccs.shape)g=os.listdir(\"wav_files\")\n",
    "\n",
    "    mfccs_mean = np.mean(mfccs, axis=0)[::2]\n",
    "    mfccs_max = np.max(mfccs, axis=0)[::2]\n",
    "    mfccs_size=len(mfccs_mean)\n",
    "\n",
    "    #print(mfccs_max.shape)\n",
    "    #print(mfccs_mean.shape)\n",
    "\n",
    "\n",
    "    zero_crossings = librosa.zero_crossings(y, pad=False)\n",
    "    #print(np.array((sum(zero_crossings))))\n",
    "    song_characteristics=np.concatenate((mfccs_mean,mfccs_max))\n",
    "    song_characteristics=np.concatenate((song_characteristics,[sum(zero_crossings)]))\n",
    "    spectrals.append(song_characteristics)\n",
    "    #https://towardsdatascience.com/extract-features-of-music-75a3f9bc265dnp.array(sum(zero_crossings))\n",
    "spectrals=np.array(spectrals)\n",
    "print(spectrals.shape)\n"
   ]
  },
  {
   "cell_type": "code",
   "execution_count": 126,
   "metadata": {},
   "outputs": [
    {
     "name": "stdout",
     "output_type": "stream",
     "text": [
      "(33, 1955)\n",
      "977\n"
     ]
    }
   ],
   "source": [
    "import sklearn\n",
    "#Mean, max, zero\n",
    "spectrals_n=sklearn.preprocessing.normalize(spectrals,axis=0)\n",
    "\n",
    "print(spectrals_n.shape)\n",
    "\n",
    "print(mfccs_size)\n"
   ]
  },
  {
   "cell_type": "markdown",
   "metadata": {},
   "source": [
    "### Spectral array:\n",
    "- First n columns [0,mfccs_size] are the MCCF mean\n",
    "- Second n columns, [mfccs_size,mfccs_size*2[ are the MCCF max.\n",
    "- Last column, 2*mfccs_size+1, is the zero crossings"
   ]
  },
  {
   "cell_type": "code",
   "execution_count": 127,
   "metadata": {},
   "outputs": [
    {
     "name": "stdout",
     "output_type": "stream",
     "text": [
      "(33, 977)\n",
      "(33, 6)\n"
     ]
    }
   ],
   "source": [
    "from sklearn.decomposition import PCA\n",
    "\n",
    "\n",
    "\n",
    "#For means\n",
    "spectral_n_means=spectrals_n[:,:mfccs_size]\n",
    "print(spectral_n_means.shape)\n",
    "pca = PCA(n_components=6)\n",
    " \n",
    "pca_means=pca.fit_transform(spectral_n_means)\n",
    "#print(pca.components_)\n",
    "#print(pca.explained_variance_)\n",
    "\n",
    "print(pca_means.shape)\n",
    "\n",
    "#retain 5"
   ]
  },
  {
   "cell_type": "code",
   "execution_count": 134,
   "metadata": {},
   "outputs": [
    {
     "name": "stdout",
     "output_type": "stream",
     "text": [
      "(33, 977)\n",
      "[1.15225409 0.32494492 0.24462133 0.22488691 0.19015934 0.15260946\n",
      " 0.14185443 0.1352769  0.12275459 0.11865732 0.10771175 0.10374525]\n",
      "(33, 12)\n"
     ]
    }
   ],
   "source": [
    "#For maxes\n",
    "spectral_n_maxes=spectrals_n[:,mfccs_size:mfccs_size*2]\n",
    "print(spectral_n_maxes.shape)\n",
    "pca = PCA(n_components=12)\n",
    " \n",
    "pca_maxes=pca.fit_transform(spectral_n_maxes)\n",
    "#print(pca.components_)\n",
    "print(pca.explained_variance_)\n",
    "print(pca_maxes.shape)\n",
    "\n",
    "#retain 5"
   ]
  },
  {
   "cell_type": "code",
   "execution_count": 135,
   "metadata": {},
   "outputs": [
    {
     "name": "stdout",
     "output_type": "stream",
     "text": [
      "(33, 1)\n",
      "(33, 19)\n"
     ]
    }
   ],
   "source": [
    "reduced_spectral=np.concatenate((pca_maxes,pca_means),axis=1)\n",
    "print(spectrals_n[:,mfccs_size*2:].shape)\n",
    "reduced_spectral=np.concatenate((reduced_spectral,spectrals_n[:,2*mfccs_size:]),axis=1)\n",
    "print(reduced_spectral.shape)"
   ]
  },
  {
   "cell_type": "code",
   "execution_count": 136,
   "metadata": {},
   "outputs": [
    {
     "name": "stderr",
     "output_type": "stream",
     "text": [
      "/home/hakosaj/.pyenv/versions/3.11.3/lib/python3.11/site-packages/sklearn/cluster/_kmeans.py:870: FutureWarning: The default value of `n_init` will change from 10 to 'auto' in 1.4. Set the value of `n_init` explicitly to suppress the warning\n",
      "  warnings.warn(\n",
      "/home/hakosaj/.pyenv/versions/3.11.3/lib/python3.11/site-packages/sklearn/cluster/_kmeans.py:870: FutureWarning: The default value of `n_init` will change from 10 to 'auto' in 1.4. Set the value of `n_init` explicitly to suppress the warning\n",
      "  warnings.warn(\n",
      "/home/hakosaj/.pyenv/versions/3.11.3/lib/python3.11/site-packages/sklearn/cluster/_kmeans.py:870: FutureWarning: The default value of `n_init` will change from 10 to 'auto' in 1.4. Set the value of `n_init` explicitly to suppress the warning\n",
      "  warnings.warn(\n",
      "/home/hakosaj/.pyenv/versions/3.11.3/lib/python3.11/site-packages/sklearn/cluster/_kmeans.py:870: FutureWarning: The default value of `n_init` will change from 10 to 'auto' in 1.4. Set the value of `n_init` explicitly to suppress the warning\n",
      "  warnings.warn(\n",
      "/home/hakosaj/.pyenv/versions/3.11.3/lib/python3.11/site-packages/sklearn/cluster/_kmeans.py:870: FutureWarning: The default value of `n_init` will change from 10 to 'auto' in 1.4. Set the value of `n_init` explicitly to suppress the warning\n",
      "  warnings.warn(\n",
      "/home/hakosaj/.pyenv/versions/3.11.3/lib/python3.11/site-packages/sklearn/cluster/_kmeans.py:870: FutureWarning: The default value of `n_init` will change from 10 to 'auto' in 1.4. Set the value of `n_init` explicitly to suppress the warning\n",
      "  warnings.warn(\n",
      "/home/hakosaj/.pyenv/versions/3.11.3/lib/python3.11/site-packages/sklearn/cluster/_kmeans.py:870: FutureWarning: The default value of `n_init` will change from 10 to 'auto' in 1.4. Set the value of `n_init` explicitly to suppress the warning\n",
      "  warnings.warn(\n",
      "/home/hakosaj/.pyenv/versions/3.11.3/lib/python3.11/site-packages/sklearn/cluster/_kmeans.py:870: FutureWarning: The default value of `n_init` will change from 10 to 'auto' in 1.4. Set the value of `n_init` explicitly to suppress the warning\n",
      "  warnings.warn(\n",
      "/home/hakosaj/.pyenv/versions/3.11.3/lib/python3.11/site-packages/sklearn/cluster/_kmeans.py:870: FutureWarning: The default value of `n_init` will change from 10 to 'auto' in 1.4. Set the value of `n_init` explicitly to suppress the warning\n",
      "  warnings.warn(\n",
      "/home/hakosaj/.pyenv/versions/3.11.3/lib/python3.11/site-packages/sklearn/cluster/_kmeans.py:870: FutureWarning: The default value of `n_init` will change from 10 to 'auto' in 1.4. Set the value of `n_init` explicitly to suppress the warning\n",
      "  warnings.warn(\n",
      "/home/hakosaj/.pyenv/versions/3.11.3/lib/python3.11/site-packages/sklearn/cluster/_kmeans.py:870: FutureWarning: The default value of `n_init` will change from 10 to 'auto' in 1.4. Set the value of `n_init` explicitly to suppress the warning\n",
      "  warnings.warn(\n",
      "/home/hakosaj/.pyenv/versions/3.11.3/lib/python3.11/site-packages/sklearn/cluster/_kmeans.py:870: FutureWarning: The default value of `n_init` will change from 10 to 'auto' in 1.4. Set the value of `n_init` explicitly to suppress the warning\n",
      "  warnings.warn(\n",
      "/home/hakosaj/.pyenv/versions/3.11.3/lib/python3.11/site-packages/sklearn/cluster/_kmeans.py:870: FutureWarning: The default value of `n_init` will change from 10 to 'auto' in 1.4. Set the value of `n_init` explicitly to suppress the warning\n",
      "  warnings.warn(\n",
      "/home/hakosaj/.pyenv/versions/3.11.3/lib/python3.11/site-packages/sklearn/cluster/_kmeans.py:870: FutureWarning: The default value of `n_init` will change from 10 to 'auto' in 1.4. Set the value of `n_init` explicitly to suppress the warning\n",
      "  warnings.warn(\n",
      "/home/hakosaj/.pyenv/versions/3.11.3/lib/python3.11/site-packages/sklearn/cluster/_kmeans.py:870: FutureWarning: The default value of `n_init` will change from 10 to 'auto' in 1.4. Set the value of `n_init` explicitly to suppress the warning\n",
      "  warnings.warn(\n",
      "/home/hakosaj/.pyenv/versions/3.11.3/lib/python3.11/site-packages/sklearn/cluster/_kmeans.py:870: FutureWarning: The default value of `n_init` will change from 10 to 'auto' in 1.4. Set the value of `n_init` explicitly to suppress the warning\n",
      "  warnings.warn(\n",
      "/home/hakosaj/.pyenv/versions/3.11.3/lib/python3.11/site-packages/sklearn/cluster/_kmeans.py:870: FutureWarning: The default value of `n_init` will change from 10 to 'auto' in 1.4. Set the value of `n_init` explicitly to suppress the warning\n",
      "  warnings.warn(\n",
      "/home/hakosaj/.pyenv/versions/3.11.3/lib/python3.11/site-packages/sklearn/cluster/_kmeans.py:870: FutureWarning: The default value of `n_init` will change from 10 to 'auto' in 1.4. Set the value of `n_init` explicitly to suppress the warning\n",
      "  warnings.warn(\n",
      "/home/hakosaj/.pyenv/versions/3.11.3/lib/python3.11/site-packages/sklearn/cluster/_kmeans.py:870: FutureWarning: The default value of `n_init` will change from 10 to 'auto' in 1.4. Set the value of `n_init` explicitly to suppress the warning\n",
      "  warnings.warn(\n",
      "/home/hakosaj/.pyenv/versions/3.11.3/lib/python3.11/site-packages/sklearn/cluster/_kmeans.py:870: FutureWarning: The default value of `n_init` will change from 10 to 'auto' in 1.4. Set the value of `n_init` explicitly to suppress the warning\n",
      "  warnings.warn(\n",
      "/home/hakosaj/.pyenv/versions/3.11.3/lib/python3.11/site-packages/sklearn/cluster/_kmeans.py:870: FutureWarning: The default value of `n_init` will change from 10 to 'auto' in 1.4. Set the value of `n_init` explicitly to suppress the warning\n",
      "  warnings.warn(\n",
      "/home/hakosaj/.pyenv/versions/3.11.3/lib/python3.11/site-packages/sklearn/cluster/_kmeans.py:870: FutureWarning: The default value of `n_init` will change from 10 to 'auto' in 1.4. Set the value of `n_init` explicitly to suppress the warning\n",
      "  warnings.warn(\n",
      "/home/hakosaj/.pyenv/versions/3.11.3/lib/python3.11/site-packages/sklearn/cluster/_kmeans.py:870: FutureWarning: The default value of `n_init` will change from 10 to 'auto' in 1.4. Set the value of `n_init` explicitly to suppress the warning\n",
      "  warnings.warn(\n",
      "/home/hakosaj/.pyenv/versions/3.11.3/lib/python3.11/site-packages/sklearn/cluster/_kmeans.py:870: FutureWarning: The default value of `n_init` will change from 10 to 'auto' in 1.4. Set the value of `n_init` explicitly to suppress the warning\n",
      "  warnings.warn(\n",
      "/home/hakosaj/.pyenv/versions/3.11.3/lib/python3.11/site-packages/sklearn/cluster/_kmeans.py:870: FutureWarning: The default value of `n_init` will change from 10 to 'auto' in 1.4. Set the value of `n_init` explicitly to suppress the warning\n",
      "  warnings.warn(\n",
      "/home/hakosaj/.pyenv/versions/3.11.3/lib/python3.11/site-packages/sklearn/cluster/_kmeans.py:870: FutureWarning: The default value of `n_init` will change from 10 to 'auto' in 1.4. Set the value of `n_init` explicitly to suppress the warning\n",
      "  warnings.warn(\n",
      "/home/hakosaj/.pyenv/versions/3.11.3/lib/python3.11/site-packages/sklearn/cluster/_kmeans.py:870: FutureWarning: The default value of `n_init` will change from 10 to 'auto' in 1.4. Set the value of `n_init` explicitly to suppress the warning\n",
      "  warnings.warn(\n",
      "/home/hakosaj/.pyenv/versions/3.11.3/lib/python3.11/site-packages/sklearn/cluster/_kmeans.py:870: FutureWarning: The default value of `n_init` will change from 10 to 'auto' in 1.4. Set the value of `n_init` explicitly to suppress the warning\n",
      "  warnings.warn(\n",
      "/home/hakosaj/.pyenv/versions/3.11.3/lib/python3.11/site-packages/sklearn/cluster/_kmeans.py:870: FutureWarning: The default value of `n_init` will change from 10 to 'auto' in 1.4. Set the value of `n_init` explicitly to suppress the warning\n",
      "  warnings.warn(\n",
      "/home/hakosaj/.pyenv/versions/3.11.3/lib/python3.11/site-packages/sklearn/cluster/_kmeans.py:870: FutureWarning: The default value of `n_init` will change from 10 to 'auto' in 1.4. Set the value of `n_init` explicitly to suppress the warning\n",
      "  warnings.warn(\n",
      "/home/hakosaj/.pyenv/versions/3.11.3/lib/python3.11/site-packages/sklearn/cluster/_kmeans.py:870: FutureWarning: The default value of `n_init` will change from 10 to 'auto' in 1.4. Set the value of `n_init` explicitly to suppress the warning\n",
      "  warnings.warn(\n",
      "/home/hakosaj/.pyenv/versions/3.11.3/lib/python3.11/site-packages/sklearn/cluster/_kmeans.py:870: FutureWarning: The default value of `n_init` will change from 10 to 'auto' in 1.4. Set the value of `n_init` explicitly to suppress the warning\n",
      "  warnings.warn(\n",
      "/home/hakosaj/.pyenv/versions/3.11.3/lib/python3.11/site-packages/sklearn/cluster/_kmeans.py:870: FutureWarning: The default value of `n_init` will change from 10 to 'auto' in 1.4. Set the value of `n_init` explicitly to suppress the warning\n",
      "  warnings.warn(\n",
      "/home/hakosaj/.pyenv/versions/3.11.3/lib/python3.11/site-packages/sklearn/cluster/_kmeans.py:870: FutureWarning: The default value of `n_init` will change from 10 to 'auto' in 1.4. Set the value of `n_init` explicitly to suppress the warning\n",
      "  warnings.warn(\n",
      "/home/hakosaj/.pyenv/versions/3.11.3/lib/python3.11/site-packages/sklearn/cluster/_kmeans.py:870: FutureWarning: The default value of `n_init` will change from 10 to 'auto' in 1.4. Set the value of `n_init` explicitly to suppress the warning\n",
      "  warnings.warn(\n",
      "/home/hakosaj/.pyenv/versions/3.11.3/lib/python3.11/site-packages/sklearn/cluster/_kmeans.py:870: FutureWarning: The default value of `n_init` will change from 10 to 'auto' in 1.4. Set the value of `n_init` explicitly to suppress the warning\n",
      "  warnings.warn(\n",
      "/home/hakosaj/.pyenv/versions/3.11.3/lib/python3.11/site-packages/sklearn/cluster/_kmeans.py:870: FutureWarning: The default value of `n_init` will change from 10 to 'auto' in 1.4. Set the value of `n_init` explicitly to suppress the warning\n",
      "  warnings.warn(\n",
      "/home/hakosaj/.pyenv/versions/3.11.3/lib/python3.11/site-packages/sklearn/cluster/_kmeans.py:870: FutureWarning: The default value of `n_init` will change from 10 to 'auto' in 1.4. Set the value of `n_init` explicitly to suppress the warning\n",
      "  warnings.warn(\n"
     ]
    }
   ],
   "source": [
    "distortions = []\n",
    "inertias = []\n",
    "mapping1 = {}\n",
    "mapping2 = {}\n",
    "from sklearn.cluster import KMeans\n",
    "from scipy.spatial.distance import cdist\n",
    "K = range(1, 20)\n",
    "\n",
    "for k in K:\n",
    "\t# Building and fitting the model\n",
    "\tkmeanModel = KMeans(n_clusters=k).fit(reduced_spectral)\n",
    "\tkmeanModel.fit(reduced_spectral)\n",
    "\n",
    "\tdistortions.append(sum(np.min(cdist(reduced_spectral, kmeanModel.cluster_centers_,\n",
    "\t\t\t\t\t\t\t\t\t\t'euclidean'), axis=1)) / reduced_spectral.shape[0])\n",
    "\tinertias.append(kmeanModel.inertia_)\n",
    "\n",
    "\tmapping1[k] = sum(np.min(cdist(reduced_spectral, kmeanModel.cluster_centers_,\n",
    "\t\t\t\t\t\t\t\t'euclidean'), axis=1)) / reduced_spectral.shape[0]\n",
    "\tmapping2[k] = kmeanModel.inertia_\n"
   ]
  },
  {
   "cell_type": "code",
   "execution_count": 137,
   "metadata": {},
   "outputs": [
    {
     "data": {
      "image/png": "[encoded data removed]",
      "text/plain": [
       "<Figure size 640x480 with 1 Axes>"
      ]
     },
     "metadata": {},
     "output_type": "display_data"
    }
   ],
   "source": [
    "import matplotlib.pyplot as plt\n",
    "plt.plot(K, distortions, 'bx-')\n",
    "plt.xlabel('Values of K')\n",
    "plt.ylabel('Distortion')\n",
    "plt.title('The Elbow Method using Distortion')\n",
    "plt.show()"
   ]
  },
  {
   "cell_type": "code",
   "execution_count": 138,
   "metadata": {},
   "outputs": [
    {
     "name": "stderr",
     "output_type": "stream",
     "text": [
      "/home/hakosaj/.pyenv/versions/3.11.3/lib/python3.11/site-packages/sklearn/cluster/_kmeans.py:870: FutureWarning: The default value of `n_init` will change from 10 to 'auto' in 1.4. Set the value of `n_init` explicitly to suppress the warning\n",
      "  warnings.warn(\n"
     ]
    },
    {
     "name": "stdout",
     "output_type": "stream",
     "text": [
      "[2 1 1 2 1 2 2 2 1 1 6 2 1 3 1 2 7 5 4 7 2 4 0 7 7 2 7 7 1 7 3 4 7]\n"
     ]
    },
    {
     "name": "stderr",
     "output_type": "stream",
     "text": [
      "/home/hakosaj/.pyenv/versions/3.11.3/lib/python3.11/site-packages/sklearn/cluster/_kmeans.py:870: FutureWarning: The default value of `n_init` will change from 10 to 'auto' in 1.4. Set the value of `n_init` explicitly to suppress the warning\n",
      "  warnings.warn(\n"
     ]
    }
   ],
   "source": [
    "\n",
    "kmeanModel = KMeans(n_clusters=8).fit(reduced_spectral)\n",
    "kmeanModel.fit(reduced_spectral)\n",
    "print(kmeanModel.labels_)"
   ]
  },
  {
   "cell_type": "code",
   "execution_count": 139,
   "metadata": {},
   "outputs": [
    {
     "name": "stdout",
     "output_type": "stream",
     "text": [
      "letsgetitstarted                                     |  2 \n",
      "youdontknowme                                        |  1 \n",
      "neverbethesame                                       |  1 \n",
      "righthereinmyarms                                    |  2 \n",
      "legendary                                            |  1 \n",
      "heathens                                             |  2 \n",
      "soundgardenblackholesunwithlyrics                    |  2 \n",
      "virtualinsanity                                      |  2 \n",
      "justintimberlake-mylove                              |  1 \n",
      "latch                                                |  1 \n",
      "sweetdreams                                          |  6 \n",
      "kohtalo                                              |  2 \n",
      "doiwannaknow?                                        |  1 \n",
      "bettergiveuup                                        |  3 \n",
      "3doorsdown-kryptonite                                |  1 \n",
      "disturbia                                            |  2 \n",
      "redhotchilipeppers-ifyouwantmetostay                 |  7 \n",
      "tadow                                                |  5 \n",
      "promiscuousclosedcaptionedstereo                     |  4 \n",
      "sogone                                               |  7 \n",
      "señorita                                             |  2 \n",
      "maskoff                                              |  4 \n",
      "thedevilwearsasuitandtie                             |  0 \n",
      "crymeariver                                          |  7 \n",
      "afterglow                                            |  7 \n",
      "billyidol-rebelyell                                  |  2 \n",
      "navajo                                               |  7 \n",
      "arcticmonkeys-iwannabeyours                          |  7 \n",
      "dontchaclosedcaptionedbustaversion                   |  1 \n",
      "likewut                                              |  7 \n",
      "human                                                |  3 \n",
      "saturnzbarz                                          |  4 \n",
      "drops                                                |  7 \n"
     ]
    }
   ],
   "source": [
    "for c, value in enumerate(g):\n",
    "    print(f\"{value.replace('.wav',''):50}   |  {kmeanModel.labels_[c]} \")"
   ]
  },
  {
   "cell_type": "code",
   "execution_count": null,
   "metadata": {},
   "outputs": [],
   "source": []
  }
 ],
 "metadata": {
  "kernelspec": {
   "display_name": "Python 3",
   "language": "python",
   "name": "python3"
  },
  "language_info": {
   "codemirror_mode": {
    "name": "ipython",
    "version": 3
   },
   "file_extension": ".py",
   "mimetype": "text/x-python",
   "name": "python",
   "nbconvert_exporter": "python",
   "pygments_lexer": "ipython3",
   "version": "3.11.3"
  },
  "orig_nbformat": 4
 },
 "nbformat": 4,
 "nbformat_minor": 2
}
