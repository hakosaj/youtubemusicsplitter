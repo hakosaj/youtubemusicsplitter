{
 "cells": [
  {
   "cell_type": "code",
   "execution_count": 49,
   "metadata": {},
   "outputs": [
    {
     "name": "stdout",
     "output_type": "stream",
     "text": [
      "Sample rate: 43.64248707944872\n",
      "Sample rate: 36.82778027193432\n",
      "Sample rate: 44.03159251786425\n",
      "Sample rate: 47.49272855094839\n",
      "Sample rate: 43.256735887906785\n",
      "Sample rate: 51.033822579122095\n",
      "Sample rate: 31.421571756894792\n",
      "Sample rate: 42.58940491495253\n",
      "Sample rate: 35.67462413021869\n",
      "Sample rate: 39.11288777634453\n",
      "Sample rate: 33.60887018105197\n",
      "Sample rate: 48.15764782759867\n",
      "Sample rate: 37.61915290880503\n",
      "Sample rate: 38.93607914212782\n",
      "Sample rate: 42.54732883817427\n",
      "Sample rate: 38.247252442273535\n",
      "Sample rate: 40.4151710304054\n",
      "Sample rate: 20.554794888316152\n",
      "Sample rate: 41.1882232689365\n",
      "Sample rate: 40.85687900138005\n",
      "Sample rate: 33.956552860111934\n",
      "Sample rate: 48.8680345874873\n",
      "Sample rate: 42.35985707150267\n",
      "Sample rate: 34.4421035268714\n",
      "Sample rate: 34.74778622720671\n",
      "Sample rate: 35.06465254030288\n",
      "Sample rate: 51.49761125819524\n",
      "Sample rate: 54.29451115733737\n",
      "Sample rate: 36.17809664818549\n",
      "Sample rate: 83.1912228543833\n",
      "Sample rate: 50.13086315115558\n",
      "Sample rate: 54.954092771480695\n",
      "Sample rate: 41.38612939650202\n",
      "(33, 21)\n"
     ]
    }
   ],
   "source": [
    "import librosa\n",
    "import numpy as np\n",
    "import os\n",
    "import pickle\n",
    "\n",
    "g=os.listdir(\"wav_files\")\n",
    "\n",
    "spectrals=[]\n",
    "for vidfile in g:\n",
    "\n",
    "    dr=librosa.get_duration(path=f\"wav_files/{vidfile}\")\n",
    "    y,sr = librosa.load(f\"wav_files/{vidfile}\",sr=10000/dr)\n",
    "\n",
    "\n",
    "\n",
    "    #25k  points of sampled time serie data\n",
    "    #print(f\"Sampling data: {y.shape}\")\n",
    "    print(f\"Sample rate: {sr}\")\n",
    "    mfccs = librosa.feature.mfcc(y=y, sr=sr)\n",
    "\n",
    "    #print(mfccs.shape)\n",
    "\n",
    "    mfccs_mean = np.mean(mfccs, axis=0)[::2]\n",
    "    mfccs_max = np.max(mfccs, axis=0)[::2]\n",
    "\n",
    "    #print(mfccs_max.shape)\n",
    "    #print(mfccs_mean.shape)\n",
    "\n",
    "\n",
    "    zero_crossings = librosa.zero_crossings(y, pad=False)\n",
    "    #print(np.array((sum(zero_crossings))))\n",
    "    song_characteristics=np.concatenate((mfccs_mean,mfccs_max))\n",
    "    song_characteristics=np.concatenate((song_characteristics,[sum(zero_crossings)]))\n",
    "    spectrals.append(song_characteristics)\n",
    "    #https://towardsdatascience.com/extract-features-of-music-75a3f9bc265dnp.array(sum(zero_crossings))\n",
    "spectrals=np.array(spectrals)\n",
    "print(spectrals.shape)\n"
   ]
  },
  {
   "cell_type": "code",
   "execution_count": 50,
   "metadata": {},
   "outputs": [
    {
     "name": "stdout",
     "output_type": "stream",
     "text": [
      "(33, 21)\n"
     ]
    }
   ],
   "source": [
    "import sklearn\n",
    "#Mean, max, zero\n",
    "spectrals_n=sklearn.preprocessing.normalize(spectrals,axis=0)\n",
    "print(spectrals_n.shape)\n"
   ]
  },
  {
   "cell_type": "code",
   "execution_count": 51,
   "metadata": {},
   "outputs": [
    {
     "name": "stdout",
     "output_type": "stream",
     "text": [
      "(33, 10)\n",
      "(33, 5)\n"
     ]
    }
   ],
   "source": [
    "from sklearn.decomposition import PCA\n",
    "\n",
    "#For means\n",
    "spectral_n_means=spectrals_n[:,:10]\n",
    "print(spectral_n_means.shape)\n",
    "pca = PCA(n_components=5)\n",
    " \n",
    "pca_means=pca.fit_transform(spectral_n_means)\n",
    "#print(pca.components_)\n",
    "#print(pca.explained_variance_)\n",
    "\n",
    "print(pca_means.shape)\n",
    "\n",
    "#retain 5"
   ]
  },
  {
   "cell_type": "code",
   "execution_count": 52,
   "metadata": {},
   "outputs": [
    {
     "name": "stdout",
     "output_type": "stream",
     "text": [
      "(33, 5)\n"
     ]
    }
   ],
   "source": [
    "#For maxes\n",
    "spectral_n_maxes=spectrals_n[:,10:20]\n",
    "#print(spectral_n_maxes.shape)\n",
    "pca = PCA(n_components=5)\n",
    " \n",
    "pca_maxes=pca.fit_transform(spectral_n_maxes)\n",
    "#print(pca.components_)\n",
    "#print(pca.explained_variance_)\n",
    "print(pca_maxes.shape)\n",
    "\n",
    "#retain 5"
   ]
  },
  {
   "cell_type": "code",
   "execution_count": 53,
   "metadata": {},
   "outputs": [
    {
     "name": "stdout",
     "output_type": "stream",
     "text": [
      "(33, 1)\n",
      "(33, 11)\n"
     ]
    }
   ],
   "source": [
    "reduced_spectral=np.concatenate((pca_maxes,pca_means),axis=1)\n",
    "print(spectrals_n[:,20:].shape)\n",
    "reduced_spectral=np.concatenate((reduced_spectral,spectrals_n[:,20:]),axis=1)\n",
    "print(reduced_spectral.shape)"
   ]
  },
  {
   "cell_type": "code",
   "execution_count": null,
   "metadata": {},
   "outputs": [],
   "source": [
    "distortions = []\n",
    "inertias = []\n",
    "mapping1 = {}\n",
    "mapping2 = {}\n",
    "from sklearn.cluster import KMeans\n",
    "from scipy.spatial.distance import cdist\n",
    "K = range(1, 10)\n",
    "\n",
    "for k in K:\n",
    "\t# Building and fitting the model\n",
    "\tkmeanModel = KMeans(n_clusters=k).fit(reduced_spectral)\n",
    "\tkmeanModel.fit(reduced_spectral)\n",
    "\n",
    "\tdistortions.append(sum(np.min(cdist(reduced_spectral, kmeanModel.cluster_centers_,\n",
    "\t\t\t\t\t\t\t\t\t\t'euclidean'), axis=1)) / reduced_spectral.shape[0])\n",
    "\tinertias.append(kmeanModel.inertia_)\n",
    "\n",
    "\tmapping1[k] = sum(np.min(cdist(reduced_spectral, kmeanModel.cluster_centers_,\n",
    "\t\t\t\t\t\t\t\t'euclidean'), axis=1)) / reduced_spectral.shape[0]\n",
    "\tmapping2[k] = kmeanModel.inertia_\n"
   ]
  },
  {
   "cell_type": "code",
   "execution_count": null,
   "metadata": {},
   "outputs": [],
   "source": [
    "!python -m pip install matplotlib\n",
    "import matplotlib.pyplot as plt\n",
    "plt.plot(K, distortions, 'bx-')\n",
    "plt.xlabel('Values of K')\n",
    "plt.ylabel('Distortion')\n",
    "plt.title('The Elbow Method using Distortion')\n",
    "plt.show()"
   ]
  },
  {
   "cell_type": "code",
   "execution_count": 62,
   "metadata": {},
   "outputs": [
    {
     "name": "stderr",
     "output_type": "stream",
     "text": [
      "/home/hakosaj/.pyenv/versions/3.11.3/lib/python3.11/site-packages/sklearn/cluster/_kmeans.py:870: FutureWarning: The default value of `n_init` will change from 10 to 'auto' in 1.4. Set the value of `n_init` explicitly to suppress the warning\n",
      "  warnings.warn(\n",
      "/home/hakosaj/.pyenv/versions/3.11.3/lib/python3.11/site-packages/sklearn/cluster/_kmeans.py:870: FutureWarning: The default value of `n_init` will change from 10 to 'auto' in 1.4. Set the value of `n_init` explicitly to suppress the warning\n",
      "  warnings.warn(\n"
     ]
    },
    {
     "name": "stdout",
     "output_type": "stream",
     "text": [
      "[2 0 1 2 1 0 0 0 1 1 2 2 0 3 1 2 1 1 3 1 2 1 2 0 2 0 1 3 0 0 3 3 0]\n"
     ]
    }
   ],
   "source": [
    "\n",
    "kmeanModel = KMeans(n_clusters=4).fit(reduced_spectral)\n",
    "kmeanModel.fit(reduced_spectral)\n",
    "print(kmeanModel.labels_)"
   ]
  },
  {
   "cell_type": "code",
   "execution_count": null,
   "metadata": {},
   "outputs": [],
   "source": []
  }
 ],
 "metadata": {
  "kernelspec": {
   "display_name": "Python 3",
   "language": "python",
   "name": "python3"
  },
  "language_info": {
   "codemirror_mode": {
    "name": "ipython",
    "version": 3
   },
   "file_extension": ".py",
   "mimetype": "text/x-python",
   "name": "python",
   "nbconvert_exporter": "python",
   "pygments_lexer": "ipython3",
   "version": "3.11.3"
  },
  "orig_nbformat": 4
 },
 "nbformat": 4,
 "nbformat_minor": 2
}
